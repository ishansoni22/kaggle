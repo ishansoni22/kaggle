{
 "cells": [
  {
   "cell_type": "markdown",
   "metadata": {
    "collapsed": true
   },
   "source": [
    "<h2>Titanic: Machine Learning from Disaster</h2>\n",
    "\n",
    ">> The sinking of the RMS Titanic is one of the most infamous shipwrecks in history.  On April 15, 1912, during her maiden voyage, the Titanic sank after colliding with an iceberg, killing 1502 out of 2224 passengers and crew. This sensational tragedy shocked the international community and led to better safety regulations for ships.\n",
    "\n",
    ">> One of the reasons that the shipwreck led to such loss of life was that there were not enough lifeboats for the passengers and crew. Although there was some element of luck involved in surviving the sinking, some groups of people were more likely to survive than others, such as women, children, and the upper-class.\n",
    "\n",
    ">> In this challenge, we ask you to complete the analysis of what sorts of people were likely to survive. In particular, we ask you to apply the tools of machine learning to predict which passengers survived the tragedy."
   ]
  },
  {
   "cell_type": "markdown",
   "metadata": {},
   "source": [
    "## Data Exploration"
   ]
  },
  {
   "cell_type": "code",
   "execution_count": 1,
   "metadata": {},
   "outputs": [
    {
     "data": {
      "text/html": [
       "<div>\n",
       "<style>\n",
       "    .dataframe thead tr:only-child th {\n",
       "        text-align: right;\n",
       "    }\n",
       "\n",
       "    .dataframe thead th {\n",
       "        text-align: left;\n",
       "    }\n",
       "\n",
       "    .dataframe tbody tr th {\n",
       "        vertical-align: top;\n",
       "    }\n",
       "</style>\n",
       "<table border=\"1\" class=\"dataframe\">\n",
       "  <thead>\n",
       "    <tr style=\"text-align: right;\">\n",
       "      <th></th>\n",
       "      <th>PassengerId</th>\n",
       "      <th>Survived</th>\n",
       "      <th>Pclass</th>\n",
       "      <th>Name</th>\n",
       "      <th>Sex</th>\n",
       "      <th>Age</th>\n",
       "      <th>SibSp</th>\n",
       "      <th>Parch</th>\n",
       "      <th>Ticket</th>\n",
       "      <th>Fare</th>\n",
       "      <th>Cabin</th>\n",
       "      <th>Embarked</th>\n",
       "    </tr>\n",
       "  </thead>\n",
       "  <tbody>\n",
       "    <tr>\n",
       "      <th>751</th>\n",
       "      <td>752</td>\n",
       "      <td>1</td>\n",
       "      <td>3</td>\n",
       "      <td>Moor, Master. Meier</td>\n",
       "      <td>male</td>\n",
       "      <td>6.0</td>\n",
       "      <td>0</td>\n",
       "      <td>1</td>\n",
       "      <td>392096</td>\n",
       "      <td>12.4750</td>\n",
       "      <td>E121</td>\n",
       "      <td>S</td>\n",
       "    </tr>\n",
       "    <tr>\n",
       "      <th>833</th>\n",
       "      <td>834</td>\n",
       "      <td>0</td>\n",
       "      <td>3</td>\n",
       "      <td>Augustsson, Mr. Albert</td>\n",
       "      <td>male</td>\n",
       "      <td>23.0</td>\n",
       "      <td>0</td>\n",
       "      <td>0</td>\n",
       "      <td>347468</td>\n",
       "      <td>7.8542</td>\n",
       "      <td>NaN</td>\n",
       "      <td>S</td>\n",
       "    </tr>\n",
       "    <tr>\n",
       "      <th>527</th>\n",
       "      <td>528</td>\n",
       "      <td>0</td>\n",
       "      <td>1</td>\n",
       "      <td>Farthing, Mr. John</td>\n",
       "      <td>male</td>\n",
       "      <td>NaN</td>\n",
       "      <td>0</td>\n",
       "      <td>0</td>\n",
       "      <td>PC 17483</td>\n",
       "      <td>221.7792</td>\n",
       "      <td>C95</td>\n",
       "      <td>S</td>\n",
       "    </tr>\n",
       "  </tbody>\n",
       "</table>\n",
       "</div>"
      ],
      "text/plain": [
       "     PassengerId  Survived  Pclass                    Name   Sex   Age  SibSp  \\\n",
       "751          752         1       3     Moor, Master. Meier  male   6.0      0   \n",
       "833          834         0       3  Augustsson, Mr. Albert  male  23.0      0   \n",
       "527          528         0       1      Farthing, Mr. John  male   NaN      0   \n",
       "\n",
       "     Parch    Ticket      Fare Cabin Embarked  \n",
       "751      1    392096   12.4750  E121        S  \n",
       "833      0    347468    7.8542   NaN        S  \n",
       "527      0  PC 17483  221.7792   C95        S  "
      ]
     },
     "metadata": {},
     "output_type": "display_data"
    },
    {
     "data": {
      "text/html": [
       "<div>\n",
       "<style>\n",
       "    .dataframe thead tr:only-child th {\n",
       "        text-align: right;\n",
       "    }\n",
       "\n",
       "    .dataframe thead th {\n",
       "        text-align: left;\n",
       "    }\n",
       "\n",
       "    .dataframe tbody tr th {\n",
       "        vertical-align: top;\n",
       "    }\n",
       "</style>\n",
       "<table border=\"1\" class=\"dataframe\">\n",
       "  <thead>\n",
       "    <tr style=\"text-align: right;\">\n",
       "      <th></th>\n",
       "      <th>PassengerId</th>\n",
       "      <th>Pclass</th>\n",
       "      <th>Name</th>\n",
       "      <th>Sex</th>\n",
       "      <th>Age</th>\n",
       "      <th>SibSp</th>\n",
       "      <th>Parch</th>\n",
       "      <th>Ticket</th>\n",
       "      <th>Fare</th>\n",
       "      <th>Cabin</th>\n",
       "      <th>Embarked</th>\n",
       "    </tr>\n",
       "  </thead>\n",
       "  <tbody>\n",
       "    <tr>\n",
       "      <th>260</th>\n",
       "      <td>1152</td>\n",
       "      <td>3</td>\n",
       "      <td>de Messemaeker, Mr. Guillaume Joseph</td>\n",
       "      <td>male</td>\n",
       "      <td>36.5</td>\n",
       "      <td>1</td>\n",
       "      <td>0</td>\n",
       "      <td>345572</td>\n",
       "      <td>17.4000</td>\n",
       "      <td>NaN</td>\n",
       "      <td>S</td>\n",
       "    </tr>\n",
       "    <tr>\n",
       "      <th>32</th>\n",
       "      <td>924</td>\n",
       "      <td>3</td>\n",
       "      <td>Dean, Mrs. Bertram (Eva Georgetta Light)</td>\n",
       "      <td>female</td>\n",
       "      <td>33.0</td>\n",
       "      <td>1</td>\n",
       "      <td>2</td>\n",
       "      <td>C.A. 2315</td>\n",
       "      <td>20.5750</td>\n",
       "      <td>NaN</td>\n",
       "      <td>S</td>\n",
       "    </tr>\n",
       "    <tr>\n",
       "      <th>177</th>\n",
       "      <td>1069</td>\n",
       "      <td>1</td>\n",
       "      <td>Stengel, Mr. Charles Emil Henry</td>\n",
       "      <td>male</td>\n",
       "      <td>54.0</td>\n",
       "      <td>1</td>\n",
       "      <td>0</td>\n",
       "      <td>11778</td>\n",
       "      <td>55.4417</td>\n",
       "      <td>C116</td>\n",
       "      <td>C</td>\n",
       "    </tr>\n",
       "  </tbody>\n",
       "</table>\n",
       "</div>"
      ],
      "text/plain": [
       "     PassengerId  Pclass                                      Name     Sex  \\\n",
       "260         1152       3      de Messemaeker, Mr. Guillaume Joseph    male   \n",
       "32           924       3  Dean, Mrs. Bertram (Eva Georgetta Light)  female   \n",
       "177         1069       1           Stengel, Mr. Charles Emil Henry    male   \n",
       "\n",
       "      Age  SibSp  Parch     Ticket     Fare Cabin Embarked  \n",
       "260  36.5      1      0     345572  17.4000   NaN        S  \n",
       "32   33.0      1      2  C.A. 2315  20.5750   NaN        S  \n",
       "177  54.0      1      0      11778  55.4417  C116        C  "
      ]
     },
     "metadata": {},
     "output_type": "display_data"
    }
   ],
   "source": [
    "# Importing important libraries & the data set.\n",
    "\n",
    "import pandas as pd\n",
    "import numpy as np\n",
    "import matplotlib.pyplot as plt\n",
    "import seaborn as sns\n",
    "\n",
    "from IPython.display import display\n",
    "%matplotlib inline\n",
    "\n",
    "train_df = pd.read_csv(\"train.csv\")\n",
    "test_df = pd.read_csv(\"test.csv\")\n",
    "passenger_ids = test_df[\"PassengerId\"]\n",
    "\n",
    "# Have a peek at the data.\n",
    "\n",
    "display(train_df.sample(n = 3))\n",
    "display(test_df.sample(n = 3))\n",
    "\n",
    "#ignore warnings\n",
    "import warnings\n",
    "warnings.filterwarnings('ignore')"
   ]
  },
  {
   "cell_type": "code",
   "execution_count": 2,
   "metadata": {},
   "outputs": [
    {
     "name": "stdout",
     "output_type": "stream",
     "text": [
      "Training Data Info\n",
      "\n",
      "<class 'pandas.core.frame.DataFrame'>\n",
      "RangeIndex: 891 entries, 0 to 890\n",
      "Data columns (total 12 columns):\n",
      "PassengerId    891 non-null int64\n",
      "Survived       891 non-null int64\n",
      "Pclass         891 non-null int64\n",
      "Name           891 non-null object\n",
      "Sex            891 non-null object\n",
      "Age            714 non-null float64\n",
      "SibSp          891 non-null int64\n",
      "Parch          891 non-null int64\n",
      "Ticket         891 non-null object\n",
      "Fare           891 non-null float64\n",
      "Cabin          204 non-null object\n",
      "Embarked       889 non-null object\n",
      "dtypes: float64(2), int64(5), object(5)\n",
      "memory usage: 83.6+ KB\n"
     ]
    },
    {
     "data": {
      "text/plain": [
       "None"
      ]
     },
     "metadata": {},
     "output_type": "display_data"
    },
    {
     "name": "stdout",
     "output_type": "stream",
     "text": [
      "Testing Data Info\n",
      "\n",
      "<class 'pandas.core.frame.DataFrame'>\n",
      "RangeIndex: 418 entries, 0 to 417\n",
      "Data columns (total 11 columns):\n",
      "PassengerId    418 non-null int64\n",
      "Pclass         418 non-null int64\n",
      "Name           418 non-null object\n",
      "Sex            418 non-null object\n",
      "Age            332 non-null float64\n",
      "SibSp          418 non-null int64\n",
      "Parch          418 non-null int64\n",
      "Ticket         418 non-null object\n",
      "Fare           417 non-null float64\n",
      "Cabin          91 non-null object\n",
      "Embarked       418 non-null object\n",
      "dtypes: float64(2), int64(4), object(5)\n",
      "memory usage: 36.0+ KB\n"
     ]
    },
    {
     "data": {
      "text/plain": [
       "None"
      ]
     },
     "metadata": {},
     "output_type": "display_data"
    }
   ],
   "source": [
    "# Are there any missing values?, any variables that need to be converted to another type?\n",
    "\n",
    "print(\"Training Data Info\\n\")\n",
    "display(train_df.info())\n",
    "\n",
    "print(\"Testing Data Info\\n\")\n",
    "display(test_df.info())"
   ]
  },
  {
   "cell_type": "markdown",
   "metadata": {},
   "source": [
    "#### Continious Features\n",
    "\n",
    "1. Age\n",
    "2. Fare\n",
    "\n",
    "#### Categorical Feature\n",
    "\n",
    "1. Sex\n",
    "2. Embarked\n",
    "\n",
    "#### Ordinal/Interval Features\n",
    "\n",
    "1. Pclass\n",
    "2. SibSp\n",
    "3. Parch\n",
    "\n",
    "#### The following columns have null values and need to be dropped or interpolated :\n",
    "\n",
    "1. Age (Both in training and testing data)\n",
    "2. Cabin (Both)\n",
    "3. Embarked (Training data)\n",
    "4. Fare (Testing data)\n",
    "\n",
    "#### The following are variables we need to transform to get any information out of or need to drop them.\n",
    "\n",
    "1. Name\n",
    "2. Cabin\n",
    "3. Ticket"
   ]
  },
  {
   "cell_type": "code",
   "execution_count": 3,
   "metadata": {},
   "outputs": [
    {
     "data": {
      "text/plain": [
       "Pclass\n",
       "1    0.629630\n",
       "2    0.472826\n",
       "3    0.242363\n",
       "Name: Survived, dtype: float64"
      ]
     },
     "metadata": {},
     "output_type": "display_data"
    },
    {
     "data": {
      "image/png": "[encoded data removed]",
      "text/plain": [
       "<matplotlib.figure.Figure at 0x10fb97278>"
      ]
     },
     "metadata": {},
     "output_type": "display_data"
    }
   ],
   "source": [
    "# Relationship b/w pclass and survived\n",
    "\n",
    "survival_by_class = train_df.groupby(\"Pclass\")[\"Survived\"].mean()\n",
    "display(survival_by_class)\n",
    "\n",
    "sns.barplot(x=\"Pclass\", y=\"Survived\", data=train_df)\n",
    "plt.show()"
   ]
  },
  {
   "cell_type": "markdown",
   "metadata": {},
   "source": [
    ">> It is evident from the above analysis that better the Socio Economic Class, more the chances of survival."
   ]
  },
  {
   "cell_type": "code",
   "execution_count": 4,
   "metadata": {},
   "outputs": [
    {
     "data": {
      "text/plain": [
       "Sex\n",
       "female    0.742038\n",
       "male      0.188908\n",
       "Name: Survived, dtype: float64"
      ]
     },
     "metadata": {},
     "output_type": "display_data"
    },
    {
     "data": {
      "image/png": "[encoded data removed]",
      "text/plain": [
       "<matplotlib.figure.Figure at 0x1a1524c780>"
      ]
     },
     "metadata": {},
     "output_type": "display_data"
    }
   ],
   "source": [
    "# Relationship b/w Sex and Survived\n",
    "\n",
    "survival_by_sex = train_df.groupby(\"Sex\")[\"Survived\"].mean()\n",
    "display(survival_by_sex)\n",
    "\n",
    "sns.barplot(x = \"Sex\", y = \"Survived\", data = train_df)\n",
    "plt.show()"
   ]
  },
  {
   "cell_type": "markdown",
   "metadata": {},
   "source": [
    ">> It is evident from the above analysis that women had a higher chance of surviving."
   ]
  },
  {
   "cell_type": "code",
   "execution_count": 5,
   "metadata": {},
   "outputs": [
    {
     "data": {
      "text/plain": [
       "Embarked\n",
       "C    0.553571\n",
       "Q    0.389610\n",
       "S    0.336957\n",
       "Name: Survived, dtype: float64"
      ]
     },
     "metadata": {},
     "output_type": "display_data"
    },
    {
     "data": {
      "image/png": "[encoded data removed]",
      "text/plain": [
       "<matplotlib.figure.Figure at 0x10d1c9908>"
      ]
     },
     "metadata": {},
     "output_type": "display_data"
    }
   ],
   "source": [
    "# Does the Port of Embarkation have any relation to Survival rate?\n",
    "\n",
    "survival_by_port = train_df.groupby(\"Embarked\")[\"Survived\"].mean()\n",
    "display(survival_by_port)\n",
    "\n",
    "sns.barplot(x = \"Embarked\", y = \"Survived\", data = train_df)\n",
    "plt.show()"
   ]
  },
  {
   "cell_type": "markdown",
   "metadata": {},
   "source": [
    ">> Looks like there is correlation here. People who embarked from Cherbourg had a higher chance of survival than the other ports."
   ]
  },
  {
   "cell_type": "code",
   "execution_count": 6,
   "metadata": {},
   "outputs": [
    {
     "name": "stdout",
     "output_type": "stream",
     "text": [
      "SibSp\n",
      "0    0.345395\n",
      "1    0.535885\n",
      "2    0.464286\n",
      "3    0.250000\n",
      "4    0.166667\n",
      "5    0.000000\n",
      "8    0.000000\n",
      "Name: Survived, dtype: float64\n"
     ]
    },
    {
     "data": {
      "image/png": "[encoded data removed]",
      "text/plain": [
       "<matplotlib.figure.Figure at 0x1a1d50f048>"
      ]
     },
     "metadata": {},
     "output_type": "display_data"
    }
   ],
   "source": [
    "# TODO Find realtionship b/w Parch/ SibSp and Survival\n",
    "\n",
    "print(train_df.groupby(\"SibSp\")[\"Survived\"].mean())\n",
    "\n",
    "sns.barplot(x = \"SibSp\", y = \"Survived\", data = train_df)\n",
    "plt.show()"
   ]
  },
  {
   "cell_type": "code",
   "execution_count": 7,
   "metadata": {},
   "outputs": [
    {
     "name": "stdout",
     "output_type": "stream",
     "text": [
      "Parch\n",
      "0    0.343658\n",
      "1    0.550847\n",
      "2    0.500000\n",
      "3    0.600000\n",
      "4    0.000000\n",
      "5    0.200000\n",
      "6    0.000000\n",
      "Name: Survived, dtype: float64\n"
     ]
    },
    {
     "data": {
      "image/png": "[encoded data removed]",
      "text/plain": [
       "<matplotlib.figure.Figure at 0x1a1d51ab38>"
      ]
     },
     "metadata": {},
     "output_type": "display_data"
    }
   ],
   "source": [
    "print(train_df.groupby(\"Parch\")[\"Survived\"].mean())\n",
    "\n",
    "sns.barplot(x = \"Parch\", y = \"Survived\", data = train_df)\n",
    "plt.show()"
   ]
  },
  {
   "cell_type": "markdown",
   "metadata": {},
   "source": [
    ">> More Sibling or spouses, less the chances of survival. But people who had no sibling/ spouses had an even lesser chance of survival.\n",
    "\n",
    ">> Were most of these people were males? Did these people help others before helping themselves ?\n",
    "\n",
    ">> Same is the case with parch.\n",
    "\n",
    ">> In a nutshell, Bigger families had less survival rate, but there survival rate is better then people who travelled alone."
   ]
  },
  {
   "cell_type": "markdown",
   "metadata": {},
   "source": [
    "## Feature Engineering"
   ]
  },
  {
   "cell_type": "markdown",
   "metadata": {},
   "source": [
    "Lets do a little bit of feature engg.\n",
    "\n",
    "This step is heavily taken from 'Sina'. See https://www.kaggle.com/sinakhorami/titanic/titanic-best-working-classifier"
   ]
  },
  {
   "cell_type": "code",
   "execution_count": 8,
   "metadata": {},
   "outputs": [
    {
     "data": {
      "text/html": [
       "<div>\n",
       "<style>\n",
       "    .dataframe thead tr:only-child th {\n",
       "        text-align: right;\n",
       "    }\n",
       "\n",
       "    .dataframe thead th {\n",
       "        text-align: left;\n",
       "    }\n",
       "\n",
       "    .dataframe tbody tr th {\n",
       "        vertical-align: top;\n",
       "    }\n",
       "</style>\n",
       "<table border=\"1\" class=\"dataframe\">\n",
       "  <thead>\n",
       "    <tr style=\"text-align: right;\">\n",
       "      <th></th>\n",
       "      <th>PassengerId</th>\n",
       "      <th>Survived</th>\n",
       "      <th>Pclass</th>\n",
       "      <th>Name</th>\n",
       "      <th>Sex</th>\n",
       "      <th>Age</th>\n",
       "      <th>SibSp</th>\n",
       "      <th>Parch</th>\n",
       "      <th>Ticket</th>\n",
       "      <th>Fare</th>\n",
       "      <th>Cabin</th>\n",
       "      <th>Embarked</th>\n",
       "      <th>HasCabin</th>\n",
       "      <th>FamilySize</th>\n",
       "      <th>IsAlone</th>\n",
       "    </tr>\n",
       "  </thead>\n",
       "  <tbody>\n",
       "    <tr>\n",
       "      <th>864</th>\n",
       "      <td>865</td>\n",
       "      <td>0</td>\n",
       "      <td>2</td>\n",
       "      <td>Gill, Mr. John William</td>\n",
       "      <td>male</td>\n",
       "      <td>24.0</td>\n",
       "      <td>0</td>\n",
       "      <td>0</td>\n",
       "      <td>233866</td>\n",
       "      <td>13.0</td>\n",
       "      <td>NaN</td>\n",
       "      <td>S</td>\n",
       "      <td>0</td>\n",
       "      <td>1</td>\n",
       "      <td>1</td>\n",
       "    </tr>\n",
       "    <tr>\n",
       "      <th>887</th>\n",
       "      <td>888</td>\n",
       "      <td>1</td>\n",
       "      <td>1</td>\n",
       "      <td>Graham, Miss. Margaret Edith</td>\n",
       "      <td>female</td>\n",
       "      <td>19.0</td>\n",
       "      <td>0</td>\n",
       "      <td>0</td>\n",
       "      <td>112053</td>\n",
       "      <td>30.0</td>\n",
       "      <td>B42</td>\n",
       "      <td>S</td>\n",
       "      <td>1</td>\n",
       "      <td>1</td>\n",
       "      <td>1</td>\n",
       "    </tr>\n",
       "    <tr>\n",
       "      <th>435</th>\n",
       "      <td>436</td>\n",
       "      <td>1</td>\n",
       "      <td>1</td>\n",
       "      <td>Carter, Miss. Lucile Polk</td>\n",
       "      <td>female</td>\n",
       "      <td>14.0</td>\n",
       "      <td>1</td>\n",
       "      <td>2</td>\n",
       "      <td>113760</td>\n",
       "      <td>120.0</td>\n",
       "      <td>B96 B98</td>\n",
       "      <td>S</td>\n",
       "      <td>1</td>\n",
       "      <td>4</td>\n",
       "      <td>0</td>\n",
       "    </tr>\n",
       "  </tbody>\n",
       "</table>\n",
       "</div>"
      ],
      "text/plain": [
       "     PassengerId  Survived  Pclass                          Name     Sex  \\\n",
       "864          865         0       2        Gill, Mr. John William    male   \n",
       "887          888         1       1  Graham, Miss. Margaret Edith  female   \n",
       "435          436         1       1     Carter, Miss. Lucile Polk  female   \n",
       "\n",
       "      Age  SibSp  Parch  Ticket   Fare    Cabin Embarked  HasCabin  \\\n",
       "864  24.0      0      0  233866   13.0      NaN        S         0   \n",
       "887  19.0      0      0  112053   30.0      B42        S         1   \n",
       "435  14.0      1      2  113760  120.0  B96 B98        S         1   \n",
       "\n",
       "     FamilySize  IsAlone  \n",
       "864           1        1  \n",
       "887           1        1  \n",
       "435           4        0  "
      ]
     },
     "metadata": {},
     "output_type": "display_data"
    }
   ],
   "source": [
    "import math\n",
    "\n",
    "# Has a cabin ?\n",
    "\n",
    "def hasCabin(x):\n",
    "    return int((x[\"Cabin\"] is not np.nan))\n",
    "\n",
    "train_df[\"HasCabin\"] = train_df.apply(hasCabin, axis = 1)\n",
    "test_df[\"HasCabin\"] = test_df.apply(hasCabin, axis = 1)\n",
    "\n",
    "# Combine SibSp & Parch to create a new variable\n",
    "\n",
    "train_df[\"FamilySize\"] = train_df[\"SibSp\"] + train_df[\"Parch\"] + 1\n",
    "test_df[\"FamilySize\"] = test_df[\"SibSp\"] + test_df[\"Parch\"] + 1\n",
    "\n",
    "# Use family size to create a new feature isAlone.\n",
    "\n",
    "def isAlone(x):\n",
    "    familySize = x[\"FamilySize\"]\n",
    "    return int(familySize == 1)\n",
    "\n",
    "train_df[\"IsAlone\"] = train_df.apply(isAlone, axis = 1)\n",
    "test_df[\"IsAlone\"] = test_df.apply(isAlone, axis = 1)\n",
    "\n",
    "display(train_df.sample(n = 3))"
   ]
  },
  {
   "cell_type": "markdown",
   "metadata": {},
   "source": [
    "Lets study the effects of these newly created features on survival rate"
   ]
  },
  {
   "cell_type": "code",
   "execution_count": 9,
   "metadata": {},
   "outputs": [
    {
     "data": {
      "image/png": "[encoded data removed]",
      "text/plain": [
       "<matplotlib.figure.Figure at 0x1a1d73b5c0>"
      ]
     },
     "metadata": {},
     "output_type": "display_data"
    }
   ],
   "source": [
    "# 1. Cabin\n",
    "\n",
    "sns.barplot(x = \"HasCabin\", y = \"Survived\", data = train_df)\n",
    "plt.show()"
   ]
  },
  {
   "cell_type": "code",
   "execution_count": 10,
   "metadata": {},
   "outputs": [
    {
     "data": {
      "image/png": "[encoded data removed]",
      "text/plain": [
       "<matplotlib.figure.Figure at 0x10fb87ba8>"
      ]
     },
     "metadata": {},
     "output_type": "display_data"
    }
   ],
   "source": [
    "# People who had cabins are more likely to survive. Are most of these people from better socio economic background?\n",
    "\n",
    "sns.barplot(x = \"Pclass\", y = \"HasCabin\", data = train_df)\n",
    "plt.show()\n",
    "\n",
    "# Looks like it!"
   ]
  },
  {
   "cell_type": "code",
   "execution_count": 11,
   "metadata": {},
   "outputs": [
    {
     "data": {
      "image/png": "[encoded data removed]",
      "text/plain": [
       "<matplotlib.figure.Figure at 0x1a1d5e8550>"
      ]
     },
     "metadata": {},
     "output_type": "display_data"
    }
   ],
   "source": [
    "# 2. isAlone ?\n",
    "\n",
    "sns.barplot(x = \"IsAlone\", y = \"Survived\", data = train_df)\n",
    "plt.show()\n",
    "\n",
    "# People who are alone are less likely to survive as discussed earlier."
   ]
  },
  {
   "cell_type": "code",
   "execution_count": 12,
   "metadata": {},
   "outputs": [
    {
     "data": {
      "text/html": [
       "<div>\n",
       "<style>\n",
       "    .dataframe thead tr:only-child th {\n",
       "        text-align: right;\n",
       "    }\n",
       "\n",
       "    .dataframe thead th {\n",
       "        text-align: left;\n",
       "    }\n",
       "\n",
       "    .dataframe tbody tr th {\n",
       "        vertical-align: top;\n",
       "    }\n",
       "</style>\n",
       "<table border=\"1\" class=\"dataframe\">\n",
       "  <thead>\n",
       "    <tr style=\"text-align: right;\">\n",
       "      <th></th>\n",
       "      <th>PassengerId</th>\n",
       "      <th>Survived</th>\n",
       "      <th>Pclass</th>\n",
       "      <th>Name</th>\n",
       "      <th>Sex</th>\n",
       "      <th>Age</th>\n",
       "      <th>SibSp</th>\n",
       "      <th>Parch</th>\n",
       "      <th>Ticket</th>\n",
       "      <th>Fare</th>\n",
       "      <th>Cabin</th>\n",
       "      <th>Embarked</th>\n",
       "      <th>HasCabin</th>\n",
       "      <th>FamilySize</th>\n",
       "      <th>IsAlone</th>\n",
       "    </tr>\n",
       "  </thead>\n",
       "  <tbody>\n",
       "    <tr>\n",
       "      <th>61</th>\n",
       "      <td>62</td>\n",
       "      <td>1</td>\n",
       "      <td>1</td>\n",
       "      <td>Icard, Miss. Amelie</td>\n",
       "      <td>female</td>\n",
       "      <td>38.0</td>\n",
       "      <td>0</td>\n",
       "      <td>0</td>\n",
       "      <td>113572</td>\n",
       "      <td>80.0</td>\n",
       "      <td>B28</td>\n",
       "      <td>NaN</td>\n",
       "      <td>1</td>\n",
       "      <td>1</td>\n",
       "      <td>1</td>\n",
       "    </tr>\n",
       "    <tr>\n",
       "      <th>829</th>\n",
       "      <td>830</td>\n",
       "      <td>1</td>\n",
       "      <td>1</td>\n",
       "      <td>Stone, Mrs. George Nelson (Martha Evelyn)</td>\n",
       "      <td>female</td>\n",
       "      <td>62.0</td>\n",
       "      <td>0</td>\n",
       "      <td>0</td>\n",
       "      <td>113572</td>\n",
       "      <td>80.0</td>\n",
       "      <td>B28</td>\n",
       "      <td>NaN</td>\n",
       "      <td>1</td>\n",
       "      <td>1</td>\n",
       "      <td>1</td>\n",
       "    </tr>\n",
       "  </tbody>\n",
       "</table>\n",
       "</div>"
      ],
      "text/plain": [
       "     PassengerId  Survived  Pclass                                       Name  \\\n",
       "61            62         1       1                        Icard, Miss. Amelie   \n",
       "829          830         1       1  Stone, Mrs. George Nelson (Martha Evelyn)   \n",
       "\n",
       "        Sex   Age  SibSp  Parch  Ticket  Fare Cabin Embarked  HasCabin  \\\n",
       "61   female  38.0      0      0  113572  80.0   B28      NaN         1   \n",
       "829  female  62.0      0      0  113572  80.0   B28      NaN         1   \n",
       "\n",
       "     FamilySize  IsAlone  \n",
       "61            1        1  \n",
       "829           1        1  "
      ]
     },
     "execution_count": 12,
     "metadata": {},
     "output_type": "execute_result"
    }
   ],
   "source": [
    "train_df[train_df[\"Embarked\"].isnull()]"
   ]
  },
  {
   "cell_type": "code",
   "execution_count": 13,
   "metadata": {
    "collapsed": true
   },
   "outputs": [],
   "source": [
    "# Since the ticket is first class and the persons survived, lets fill it with C\n",
    "\n",
    "train_df[\"Embarked\"] = train_df[\"Embarked\"].fillna(\"C\")"
   ]
  },
  {
   "cell_type": "code",
   "execution_count": 14,
   "metadata": {},
   "outputs": [
    {
     "data": {
      "text/plain": [
       "Pclass  Sex   \n",
       "1       female    34.611765\n",
       "        male      41.281386\n",
       "2       female    28.722973\n",
       "        male      30.740707\n",
       "3       female    21.750000\n",
       "        male      26.507589\n",
       "Name: Age, dtype: float64"
      ]
     },
     "metadata": {},
     "output_type": "display_data"
    }
   ],
   "source": [
    "display(train_df.groupby([\"Pclass\", \"Sex\"])[\"Age\"].mean())\n",
    "# Interpolate Age using Pclass and Sex\n",
    "\n",
    "train_df[\"Age\"] = train_df.groupby([\"Pclass\", \"Sex\"])[\"Age\"].transform(lambda x: x.fillna(x.mean()))\n",
    "test_df[\"Age\"] = test_df.groupby([\"Pclass\", \"Sex\"])[\"Age\"].transform(lambda x: x.fillna(x.mean()))"
   ]
  },
  {
   "cell_type": "code",
   "execution_count": 15,
   "metadata": {},
   "outputs": [
    {
     "data": {
      "text/plain": [
       "<matplotlib.axes._subplots.AxesSubplot at 0x10dd37668>"
      ]
     },
     "execution_count": 15,
     "metadata": {},
     "output_type": "execute_result"
    },
    {
     "data": {
      "image/png": "[encoded data removed]",
      "text/plain": [
       "<matplotlib.figure.Figure at 0x1a1d73ba90>"
      ]
     },
     "metadata": {},
     "output_type": "display_data"
    }
   ],
   "source": [
    "bins = [0, 5, 12, 18, 24, 35, 60, np.inf]\n",
    "labels = ['Baby', 'Child', 'Teenager', 'Student', 'Young Adult', 'Adult', 'Senior']\n",
    "\n",
    "train_df['AgeGroup'] = pd.cut(train_df[\"Age\"], bins, labels = labels)\n",
    "test_df['AgeGroup'] = pd.cut(test_df[\"Age\"], bins, labels = labels)\n",
    "\n",
    "sns.barplot(x = \"AgeGroup\", y = \"Survived\", data = train_df)\n",
    "# babies are more likely to survive"
   ]
  },
  {
   "cell_type": "code",
   "execution_count": 16,
   "metadata": {
    "collapsed": true
   },
   "outputs": [],
   "source": [
    "test_df[\"Fare\"] = test_df.groupby(\"Pclass\")[\"Fare\"].transform(lambda x: x.fillna(x.mean()))"
   ]
  },
  {
   "cell_type": "code",
   "execution_count": 17,
   "metadata": {
    "collapsed": true
   },
   "outputs": [],
   "source": [
    "# Split Fare into bands\n",
    "\n",
    "train_df['Fare_Range'] = pd.qcut(train_df['Fare'], 4)\n",
    "\n",
    "train_df['Fare_cat'] = 0\n",
    "train_df.loc[train_df['Fare'] <= 7.91,'Fare_cat'] = 0\n",
    "train_df.loc[(train_df['Fare'] > 7.91) & (train_df['Fare']<=14.454),'Fare_cat'] = 1\n",
    "train_df.loc[(train_df['Fare'] > 14.454) & (train_df['Fare']<=31),'Fare_cat'] = 2\n",
    "train_df.loc[(train_df['Fare'] > 31) & (train_df['Fare']<=513),'Fare_cat'] = 3\n",
    "\n",
    "\n",
    "test_df['Fare_Range'] = pd.qcut(test_df['Fare'], 4)\n",
    "\n",
    "test_df['Fare_cat'] = 0\n",
    "test_df.loc[test_df['Fare'] <= 7.91,'Fare_cat'] = 0\n",
    "test_df.loc[(test_df['Fare'] > 7.91) & (test_df['Fare']<=14.454),'Fare_cat'] = 1\n",
    "test_df.loc[(test_df['Fare'] > 14.454) & (test_df['Fare']<=31),'Fare_cat'] = 2\n",
    "test_df.loc[(test_df['Fare'] > 31) & (test_df['Fare']<=513),'Fare_cat'] = 3"
   ]
  },
  {
   "cell_type": "code",
   "execution_count": 18,
   "metadata": {
    "collapsed": true
   },
   "outputs": [],
   "source": [
    "train_df = train_df.drop(labels=[\"PassengerId\", \"Name\", \"Ticket\", \"Cabin\", \"Fare\", \"Fare_Range\", \"Age\"], axis=1)\n",
    "test_df = test_df.drop(labels=[\"PassengerId\", \"Name\", \"Ticket\", \"Cabin\", \"Fare\", \"Fare_Range\", \"Age\"], axis=1)"
   ]
  },
  {
   "cell_type": "code",
   "execution_count": 19,
   "metadata": {
    "collapsed": true
   },
   "outputs": [],
   "source": [
    "train_df = pd.get_dummies(train_df)\n",
    "test_df = pd.get_dummies(test_df)"
   ]
  },
  {
   "cell_type": "code",
   "execution_count": 20,
   "metadata": {},
   "outputs": [
    {
     "name": "stdout",
     "output_type": "stream",
     "text": [
      "                      Survived    Pclass     SibSp     Parch  HasCabin  \\\n",
      "Survived              1.000000 -0.338481 -0.035322  0.081629  0.316912   \n",
      "Pclass               -0.338481  1.000000  0.083081  0.018443 -0.725541   \n",
      "SibSp                -0.035322  0.083081  1.000000  0.414838 -0.040460   \n",
      "Parch                 0.081629  0.018443  0.414838  1.000000  0.036987   \n",
      "HasCabin              0.316912 -0.725541 -0.040460  0.036987  1.000000   \n",
      "FamilySize            0.016639  0.065997  0.890712  0.783111 -0.009175   \n",
      "IsAlone              -0.203367  0.135207 -0.584471 -0.583398 -0.158029   \n",
      "Fare_cat              0.295875 -0.628459  0.394248  0.393048  0.497108   \n",
      "Sex_female            0.543351 -0.131900  0.114631  0.245489  0.140391   \n",
      "Sex_male             -0.543351  0.131900 -0.114631 -0.245489 -0.140391   \n",
      "Embarked_C            0.174718 -0.251139 -0.061970 -0.013725  0.218068   \n",
      "Embarked_Q            0.003650  0.221009 -0.026354 -0.081228 -0.129572   \n",
      "Embarked_S           -0.155660  0.081720  0.070941  0.063036 -0.110087   \n",
      "AgeGroup_Baby         0.150304  0.070793  0.244344  0.277839 -0.013242   \n",
      "AgeGroup_Child       -0.008328  0.091777  0.252364  0.231661 -0.060236   \n",
      "AgeGroup_Teenager     0.026859  0.061877  0.035538  0.032561 -0.039980   \n",
      "AgeGroup_Student      0.022469  0.165404 -0.013040 -0.047491 -0.101205   \n",
      "AgeGroup_Young Adult -0.082008  0.141265 -0.100311 -0.211389 -0.151588   \n",
      "AgeGroup_Adult        0.000490 -0.375055 -0.097354  0.040882  0.283890   \n",
      "AgeGroup_Senior      -0.051224 -0.136667 -0.055819 -0.021502  0.102642   \n",
      "\n",
      "                      FamilySize   IsAlone  Fare_cat  Sex_female  Sex_male  \\\n",
      "Survived                0.016639 -0.203367  0.295875    0.543351 -0.543351   \n",
      "Pclass                  0.065997  0.135207 -0.628459   -0.131900  0.131900   \n",
      "SibSp                   0.890712 -0.584471  0.394248    0.114631 -0.114631   \n",
      "Parch                   0.783111 -0.583398  0.393048    0.245489 -0.245489   \n",
      "HasCabin               -0.009175 -0.158029  0.497108    0.140391 -0.140391   \n",
      "FamilySize              1.000000 -0.690922  0.465815    0.200988 -0.200988   \n",
      "IsAlone                -0.690922  1.000000 -0.568942   -0.303646  0.303646   \n",
      "Fare_cat                0.465815 -0.568942  1.000000    0.248940 -0.248940   \n",
      "Sex_female              0.200988 -0.303646  0.248940    1.000000 -1.000000   \n",
      "Sex_male               -0.200988  0.303646 -0.248940   -1.000000  1.000000   \n",
      "Embarked_C             -0.049211 -0.090229  0.207393    0.090223 -0.090223   \n",
      "Embarked_Q             -0.058592  0.086464 -0.242653    0.074115 -0.074115   \n",
      "Embarked_S              0.079977  0.024929 -0.029734   -0.125722  0.125722   \n",
      "AgeGroup_Baby           0.305804 -0.270132  0.133393    0.059571 -0.059571   \n",
      "AgeGroup_Child          0.288216 -0.195376  0.129986    0.031151 -0.031151   \n",
      "AgeGroup_Teenager       0.040556 -0.069803 -0.016250    0.098941 -0.098941   \n",
      "AgeGroup_Student       -0.032638  0.071491 -0.152355    0.161296 -0.161296   \n",
      "AgeGroup_Young Adult   -0.174165  0.159670 -0.179844   -0.173286  0.173286   \n",
      "AgeGroup_Adult         -0.046114 -0.017029  0.220076   -0.033557  0.033557   \n",
      "AgeGroup_Senior        -0.048892  0.070067  0.051055   -0.071958  0.071958   \n",
      "\n",
      "                      Embarked_C  Embarked_Q  Embarked_S  AgeGroup_Baby  \\\n",
      "Survived                0.174718    0.003650   -0.155660       0.150304   \n",
      "Pclass                 -0.251139    0.221009    0.081720       0.070793   \n",
      "SibSp                  -0.061970   -0.026354    0.070941       0.244344   \n",
      "Parch                  -0.013725   -0.081228    0.063036       0.277839   \n",
      "HasCabin                0.218068   -0.129572   -0.110087      -0.013242   \n",
      "FamilySize             -0.049211   -0.058592    0.079977       0.305804   \n",
      "IsAlone                -0.090229    0.086464    0.024929      -0.270132   \n",
      "Fare_cat                0.207393   -0.242653   -0.029734       0.133393   \n",
      "Sex_female              0.090223    0.074115   -0.125722       0.059571   \n",
      "Sex_male               -0.090223   -0.074115    0.125722      -0.059571   \n",
      "Embarked_C              1.000000   -0.149345   -0.784064      -0.005208   \n",
      "Embarked_Q             -0.149345    1.000000   -0.496624      -0.033229   \n",
      "Embarked_S             -0.784064   -0.496624    1.000000       0.025430   \n",
      "AgeGroup_Baby          -0.005208   -0.033229    0.025430       1.000000   \n",
      "AgeGroup_Child         -0.030613   -0.003882    0.029309      -0.038725   \n",
      "AgeGroup_Teenager       0.038687   -0.030424   -0.014862      -0.066552   \n",
      "AgeGroup_Student       -0.038013    0.123801   -0.044344      -0.114680   \n",
      "AgeGroup_Young Adult   -0.016086    0.042377   -0.012481      -0.176494   \n",
      "AgeGroup_Adult          0.045242   -0.127381    0.040246      -0.128932   \n",
      "AgeGroup_Senior        -0.003636    0.002542    0.001596      -0.036265   \n",
      "\n",
      "                      AgeGroup_Child  AgeGroup_Teenager  AgeGroup_Student  \\\n",
      "Survived                   -0.008328           0.026859          0.022469   \n",
      "Pclass                      0.091777           0.061877          0.165404   \n",
      "SibSp                       0.252364           0.035538         -0.013040   \n",
      "Parch                       0.231661           0.032561         -0.047491   \n",
      "HasCabin                   -0.060236          -0.039980         -0.101205   \n",
      "FamilySize                  0.288216           0.040556         -0.032638   \n",
      "IsAlone                    -0.195376          -0.069803          0.071491   \n",
      "Fare_cat                    0.129986          -0.016250         -0.152355   \n",
      "Sex_female                  0.031151           0.098941          0.161296   \n",
      "Sex_male                   -0.031151          -0.098941         -0.161296   \n",
      "Embarked_C                 -0.030613           0.038687         -0.038013   \n",
      "Embarked_Q                 -0.003882          -0.030424          0.123801   \n",
      "Embarked_S                  0.029309          -0.014862         -0.044344   \n",
      "AgeGroup_Baby              -0.038725          -0.066552         -0.114680   \n",
      "AgeGroup_Child              1.000000          -0.049612         -0.085489   \n",
      "AgeGroup_Teenager          -0.049612           1.000000         -0.146919   \n",
      "AgeGroup_Student           -0.085489          -0.146919          1.000000   \n",
      "AgeGroup_Young Adult       -0.131570          -0.226112         -0.389625   \n",
      "AgeGroup_Adult             -0.096114          -0.165178         -0.284627   \n",
      "AgeGroup_Senior            -0.027034          -0.046460         -0.080058   \n",
      "\n",
      "                      AgeGroup_Young Adult  AgeGroup_Adult  AgeGroup_Senior  \n",
      "Survived                         -0.082008        0.000490        -0.051224  \n",
      "Pclass                            0.141265       -0.375055        -0.136667  \n",
      "SibSp                            -0.100311       -0.097354        -0.055819  \n",
      "Parch                            -0.211389        0.040882        -0.021502  \n",
      "HasCabin                         -0.151588        0.283890         0.102642  \n",
      "FamilySize                       -0.174165       -0.046114        -0.048892  \n",
      "IsAlone                           0.159670       -0.017029         0.070067  \n",
      "Fare_cat                         -0.179844        0.220076         0.051055  \n",
      "Sex_female                       -0.173286       -0.033557        -0.071958  \n",
      "Sex_male                          0.173286        0.033557         0.071958  \n",
      "Embarked_C                       -0.016086        0.045242        -0.003636  \n",
      "Embarked_Q                        0.042377       -0.127381         0.002542  \n",
      "Embarked_S                       -0.012481        0.040246         0.001596  \n",
      "AgeGroup_Baby                    -0.176494       -0.128932        -0.036265  \n",
      "AgeGroup_Child                   -0.131570       -0.096114        -0.027034  \n",
      "AgeGroup_Teenager                -0.226112       -0.165178        -0.046460  \n",
      "AgeGroup_Student                 -0.389625       -0.284627        -0.080058  \n",
      "AgeGroup_Young Adult              1.000000       -0.438047        -0.123210  \n",
      "AgeGroup_Adult                   -0.438047        1.000000        -0.090007  \n",
      "AgeGroup_Senior                  -0.123210       -0.090007         1.000000  \n"
     ]
    },
    {
     "data": {
      "text/plain": [
       "<matplotlib.axes._subplots.AxesSubplot at 0x1a1d604c18>"
      ]
     },
     "execution_count": 20,
     "metadata": {},
     "output_type": "execute_result"
    },
    {
     "data": {
      "image/png": "[encoded data removed]",
      "text/plain": [
       "<matplotlib.figure.Figure at 0x1a1d511080>"
      ]
     },
     "metadata": {},
     "output_type": "display_data"
    }
   ],
   "source": [
    "# Lets also solidify our findings using the correlation matrix\n",
    "\n",
    "corr = train_df.corr()\n",
    "print(corr)\n",
    "sns.heatmap(corr, cmap = 'YlGnBu')"
   ]
  },
  {
   "cell_type": "code",
   "execution_count": 21,
   "metadata": {},
   "outputs": [
    {
     "data": {
      "text/html": [
       "<div>\n",
       "<style>\n",
       "    .dataframe thead tr:only-child th {\n",
       "        text-align: right;\n",
       "    }\n",
       "\n",
       "    .dataframe thead th {\n",
       "        text-align: left;\n",
       "    }\n",
       "\n",
       "    .dataframe tbody tr th {\n",
       "        vertical-align: top;\n",
       "    }\n",
       "</style>\n",
       "<table border=\"1\" class=\"dataframe\">\n",
       "  <thead>\n",
       "    <tr style=\"text-align: right;\">\n",
       "      <th></th>\n",
       "      <th>Survived</th>\n",
       "      <th>Pclass</th>\n",
       "      <th>SibSp</th>\n",
       "      <th>Parch</th>\n",
       "      <th>HasCabin</th>\n",
       "      <th>FamilySize</th>\n",
       "      <th>IsAlone</th>\n",
       "      <th>Fare_cat</th>\n",
       "      <th>Sex_female</th>\n",
       "      <th>Sex_male</th>\n",
       "      <th>Embarked_C</th>\n",
       "      <th>Embarked_Q</th>\n",
       "      <th>Embarked_S</th>\n",
       "      <th>AgeGroup_Baby</th>\n",
       "      <th>AgeGroup_Child</th>\n",
       "      <th>AgeGroup_Teenager</th>\n",
       "      <th>AgeGroup_Student</th>\n",
       "      <th>AgeGroup_Young Adult</th>\n",
       "      <th>AgeGroup_Adult</th>\n",
       "      <th>AgeGroup_Senior</th>\n",
       "    </tr>\n",
       "  </thead>\n",
       "  <tbody>\n",
       "    <tr>\n",
       "      <th>776</th>\n",
       "      <td>0</td>\n",
       "      <td>3</td>\n",
       "      <td>0</td>\n",
       "      <td>0</td>\n",
       "      <td>1</td>\n",
       "      <td>1</td>\n",
       "      <td>1</td>\n",
       "      <td>0</td>\n",
       "      <td>0</td>\n",
       "      <td>1</td>\n",
       "      <td>0</td>\n",
       "      <td>1</td>\n",
       "      <td>0</td>\n",
       "      <td>0</td>\n",
       "      <td>0</td>\n",
       "      <td>0</td>\n",
       "      <td>0</td>\n",
       "      <td>1</td>\n",
       "      <td>0</td>\n",
       "      <td>0</td>\n",
       "    </tr>\n",
       "    <tr>\n",
       "      <th>356</th>\n",
       "      <td>1</td>\n",
       "      <td>1</td>\n",
       "      <td>0</td>\n",
       "      <td>1</td>\n",
       "      <td>1</td>\n",
       "      <td>2</td>\n",
       "      <td>0</td>\n",
       "      <td>3</td>\n",
       "      <td>1</td>\n",
       "      <td>0</td>\n",
       "      <td>0</td>\n",
       "      <td>0</td>\n",
       "      <td>1</td>\n",
       "      <td>0</td>\n",
       "      <td>0</td>\n",
       "      <td>0</td>\n",
       "      <td>1</td>\n",
       "      <td>0</td>\n",
       "      <td>0</td>\n",
       "      <td>0</td>\n",
       "    </tr>\n",
       "    <tr>\n",
       "      <th>767</th>\n",
       "      <td>0</td>\n",
       "      <td>3</td>\n",
       "      <td>0</td>\n",
       "      <td>0</td>\n",
       "      <td>0</td>\n",
       "      <td>1</td>\n",
       "      <td>1</td>\n",
       "      <td>0</td>\n",
       "      <td>1</td>\n",
       "      <td>0</td>\n",
       "      <td>0</td>\n",
       "      <td>1</td>\n",
       "      <td>0</td>\n",
       "      <td>0</td>\n",
       "      <td>0</td>\n",
       "      <td>0</td>\n",
       "      <td>0</td>\n",
       "      <td>1</td>\n",
       "      <td>0</td>\n",
       "      <td>0</td>\n",
       "    </tr>\n",
       "    <tr>\n",
       "      <th>748</th>\n",
       "      <td>0</td>\n",
       "      <td>1</td>\n",
       "      <td>1</td>\n",
       "      <td>0</td>\n",
       "      <td>1</td>\n",
       "      <td>2</td>\n",
       "      <td>0</td>\n",
       "      <td>3</td>\n",
       "      <td>0</td>\n",
       "      <td>1</td>\n",
       "      <td>0</td>\n",
       "      <td>0</td>\n",
       "      <td>1</td>\n",
       "      <td>0</td>\n",
       "      <td>0</td>\n",
       "      <td>0</td>\n",
       "      <td>1</td>\n",
       "      <td>0</td>\n",
       "      <td>0</td>\n",
       "      <td>0</td>\n",
       "    </tr>\n",
       "    <tr>\n",
       "      <th>90</th>\n",
       "      <td>0</td>\n",
       "      <td>3</td>\n",
       "      <td>0</td>\n",
       "      <td>0</td>\n",
       "      <td>0</td>\n",
       "      <td>1</td>\n",
       "      <td>1</td>\n",
       "      <td>1</td>\n",
       "      <td>0</td>\n",
       "      <td>1</td>\n",
       "      <td>0</td>\n",
       "      <td>0</td>\n",
       "      <td>1</td>\n",
       "      <td>0</td>\n",
       "      <td>0</td>\n",
       "      <td>0</td>\n",
       "      <td>0</td>\n",
       "      <td>1</td>\n",
       "      <td>0</td>\n",
       "      <td>0</td>\n",
       "    </tr>\n",
       "  </tbody>\n",
       "</table>\n",
       "</div>"
      ],
      "text/plain": [
       "     Survived  Pclass  SibSp  Parch  HasCabin  FamilySize  IsAlone  Fare_cat  \\\n",
       "776         0       3      0      0         1           1        1         0   \n",
       "356         1       1      0      1         1           2        0         3   \n",
       "767         0       3      0      0         0           1        1         0   \n",
       "748         0       1      1      0         1           2        0         3   \n",
       "90          0       3      0      0         0           1        1         1   \n",
       "\n",
       "     Sex_female  Sex_male  Embarked_C  Embarked_Q  Embarked_S  AgeGroup_Baby  \\\n",
       "776           0         1           0           1           0              0   \n",
       "356           1         0           0           0           1              0   \n",
       "767           1         0           0           1           0              0   \n",
       "748           0         1           0           0           1              0   \n",
       "90            0         1           0           0           1              0   \n",
       "\n",
       "     AgeGroup_Child  AgeGroup_Teenager  AgeGroup_Student  \\\n",
       "776               0                  0                 0   \n",
       "356               0                  0                 1   \n",
       "767               0                  0                 0   \n",
       "748               0                  0                 1   \n",
       "90                0                  0                 0   \n",
       "\n",
       "     AgeGroup_Young Adult  AgeGroup_Adult  AgeGroup_Senior  \n",
       "776                     1               0                0  \n",
       "356                     0               0                0  \n",
       "767                     1               0                0  \n",
       "748                     0               0                0  \n",
       "90                      1               0                0  "
      ]
     },
     "metadata": {},
     "output_type": "display_data"
    }
   ],
   "source": [
    "display(train_df.sample(n = 5))"
   ]
  },
  {
   "cell_type": "code",
   "execution_count": 22,
   "metadata": {
    "collapsed": true
   },
   "outputs": [],
   "source": [
    "# Split into features and target variable\n",
    "features = train_df.iloc[:, 1:]\n",
    "target = train_df.iloc[:, 0]"
   ]
  },
  {
   "cell_type": "markdown",
   "metadata": {},
   "source": [
    "## Feature Transformation"
   ]
  },
  {
   "cell_type": "code",
   "execution_count": 23,
   "metadata": {},
   "outputs": [
    {
     "name": "stdout",
     "output_type": "stream",
     "text": [
      "Index(['Pclass', 'SibSp', 'Parch', 'HasCabin', 'FamilySize', 'IsAlone',\n",
      "       'Fare_cat', 'Sex_female', 'Sex_male', 'Embarked_C', 'Embarked_Q',\n",
      "       'Embarked_S', 'AgeGroup_Baby', 'AgeGroup_Child', 'AgeGroup_Teenager',\n",
      "       'AgeGroup_Student', 'AgeGroup_Young Adult', 'AgeGroup_Adult',\n",
      "       'AgeGroup_Senior'],\n",
      "      dtype='object')\n",
      "[ 0.12121332  0.03588755  0.01799919  0.05632488  0.08295165  0.00872679\n",
      "  0.05852103  0.45459038  0.          0.01328257  0.00637174  0.011869\n",
      "  0.04830355  0.01934907  0.00251141  0.01019678  0.0316933   0.0192282\n",
      "  0.00097959]\n"
     ]
    }
   ],
   "source": [
    "# Create a simple decision tree to see important features\n",
    "\n",
    "from sklearn.tree import DecisionTreeClassifier\n",
    "classifier = DecisionTreeClassifier(min_samples_split = 10)\n",
    "classifier.fit(features, target)\n",
    "\n",
    "print(features.columns)\n",
    "print(classifier.feature_importances_)"
   ]
  },
  {
   "cell_type": "code",
   "execution_count": 24,
   "metadata": {},
   "outputs": [
    {
     "name": "stderr",
     "output_type": "stream",
     "text": [
      "/Users/ishans/anaconda3/lib/python3.6/site-packages/sklearn/cross_validation.py:41: DeprecationWarning: This module was deprecated in version 0.18 in favor of the model_selection module into which all the refactored classes and functions are moved. Also note that the interface of the new CV iterators are different from that of this module. This module will be removed in 0.20.\n",
      "  \"This module will be removed in 0.20.\", DeprecationWarning)\n"
     ]
    }
   ],
   "source": [
    "# split data into train and test\n",
    "from sklearn.cross_validation import train_test_split\n",
    "X_train, X_test, y_train, y_test = train_test_split(features, target, test_size = 0.1, random_state = 0)"
   ]
  },
  {
   "cell_type": "markdown",
   "metadata": {},
   "source": [
    "## Model Application"
   ]
  },
  {
   "cell_type": "code",
   "execution_count": 25,
   "metadata": {
    "collapsed": true
   },
   "outputs": [],
   "source": [
    "from sklearn.model_selection import GridSearchCV\n",
    "from sklearn.metrics import accuracy_score\n",
    "from sklearn.metrics import make_scorer\n",
    "from sklearn.cross_validation import ShuffleSplit"
   ]
  },
  {
   "cell_type": "code",
   "execution_count": 26,
   "metadata": {
    "collapsed": true
   },
   "outputs": [],
   "source": [
    "def findBestModel(classifier, params):\n",
    "    cv_sets = ShuffleSplit(X_train.shape[0], n_iter = 15, test_size = 0.1, random_state = 0)\n",
    "    score_fn = make_scorer(accuracy_score)\n",
    "    grid = GridSearchCV(classifier, params, score_fn, cv = cv_sets)\n",
    "    grid = grid.fit(X_train, y_train)\n",
    "    best_clf = grid.best_estimator_\n",
    "    print(best_clf)\n",
    "    return best_clf\n",
    "\n",
    "def calculateAccuracy(y_actual, y_pred):\n",
    "    acc = accuracy_score(y_actual, y_pred)\n",
    "    print(\"Model accuracy is {}\\n\".format(acc))\n",
    "    return acc"
   ]
  },
  {
   "cell_type": "markdown",
   "metadata": {},
   "source": [
    "* Ada Boost"
   ]
  },
  {
   "cell_type": "code",
   "execution_count": null,
   "metadata": {},
   "outputs": [],
   "source": [
    "from sklearn.ensemble import AdaBoostClassifier\n",
    "\n",
    "classifier = AdaBoostClassifier(random_state = 0)\n",
    "params = {\"n_estimators\" : [10, 50, 100, 150], \"learning_rate\" : [0.5, 0.75, 1, 1.25, 1.5]}\n",
    "\n",
    "best_ada_model = findBestModel(classifier, params)"
   ]
  },
  {
   "cell_type": "code",
   "execution_count": null,
   "metadata": {},
   "outputs": [],
   "source": [
    "best_ada_model.fit(X_train, y_train)\n",
    "y_pred = best_ada_model.predict(X_test)\n",
    "\n",
    "ada_accuracy = calculateAccuracy(y_test, y_pred)"
   ]
  },
  {
   "cell_type": "markdown",
   "metadata": {
    "collapsed": true
   },
   "source": [
    "* Random Forest"
   ]
  },
  {
   "cell_type": "code",
   "execution_count": null,
   "metadata": {},
   "outputs": [],
   "source": [
    "from sklearn.ensemble import RandomForestClassifier\n",
    "\n",
    "classifier = RandomForestClassifier(random_state = 0)\n",
    "params = {\"n_estimators\" : [10, 25, 50, 75, 100], \"min_samples_split\" : [2, 5, 10, 15, 20, 50]}\n",
    "\n",
    "best_random_model = findBestModel(classifier, params)"
   ]
  },
  {
   "cell_type": "code",
   "execution_count": null,
   "metadata": {},
   "outputs": [],
   "source": [
    "best_random_model.fit(X_train, y_train)\n",
    "y_pred = best_random_model.predict(X_test)\n",
    "\n",
    "random_accuracy = calculateAccuracy(y_test, y_pred)"
   ]
  },
  {
   "cell_type": "markdown",
   "metadata": {},
   "source": [
    "* SVM"
   ]
  },
  {
   "cell_type": "code",
   "execution_count": null,
   "metadata": {},
   "outputs": [],
   "source": [
    "from sklearn.svm import SVC\n",
    "\n",
    "classifier = SVC(random_state = 0)\n",
    "params = {\"C\" : [0.5, 0.75, 1, 1.25, 1.5], \"gamma\" : [0.1, 0.2, 0.3, 0.5]}\n",
    "\n",
    "best_svc_model = findBestModel(classifier, params)"
   ]
  },
  {
   "cell_type": "code",
   "execution_count": null,
   "metadata": {},
   "outputs": [],
   "source": [
    "best_svc_model.fit(X_train, y_train)\n",
    "y_pred = best_svc_model.predict(X_test)\n",
    "\n",
    "svc_accuracy = calculateAccuracy(y_test, y_pred)"
   ]
  },
  {
   "cell_type": "markdown",
   "metadata": {},
   "source": [
    "* Gradient Boosting Classifier"
   ]
  },
  {
   "cell_type": "code",
   "execution_count": null,
   "metadata": {},
   "outputs": [],
   "source": [
    "from sklearn.ensemble import GradientBoostingClassifier\n",
    "\n",
    "classifier = GradientBoostingClassifier(random_state = 0)\n",
    "params = {\"learning_rate\" : [0.05, 0.1, 0.2, 0.3], \"n_estimators\" : [50, 100, 150, 200], \"min_samples_split\" : [2, 5, 8, 10, 20]}\n",
    "\n",
    "best_gbc_model = findBestModel(classifier, params)"
   ]
  },
  {
   "cell_type": "code",
   "execution_count": null,
   "metadata": {},
   "outputs": [],
   "source": [
    "best_gbc_model.fit(X_train, y_train)\n",
    "y_pred = best_gbc_model.predict(X_test)\n",
    "\n",
    "gbc_accuracy = calculateAccuracy(y_test, y_pred)"
   ]
  },
  {
   "cell_type": "markdown",
   "metadata": {},
   "source": [
    "* Logistic Regression"
   ]
  },
  {
   "cell_type": "code",
   "execution_count": null,
   "metadata": {},
   "outputs": [],
   "source": [
    "from sklearn.linear_model import LogisticRegression\n",
    "\n",
    "classifier = LogisticRegression(random_state = 0)\n",
    "params = {\"C\" : [0.5, 0.75, 1, 1.25, 1.5], \"solver\" : [\"newton-cg\", \"lbfgs\", \"liblinear\", \"sag\", \"saga\"], \"max_iter\" : [100, 150, 200, 300]}\n",
    "\n",
    "best_logistic_model = findBestModel(classifier, params)\n",
    "\n",
    "best_logistic_model.fit(X_train, y_train)\n",
    "y_pred = best_logistic_model.predict(X_test)\n",
    "logistic_accuracy = calculateAccuracy(y_test, y_pred)"
   ]
  },
  {
   "cell_type": "code",
   "execution_count": null,
   "metadata": {},
   "outputs": [],
   "source": [
    "models = pd.DataFrame({\n",
    "    'Model': ['Support Vector Machines',  'Logistic Regression', \n",
    "              'Random Forest', 'Gradient Boosting Classifier', 'Ada Boost'],\n",
    "    'Score': [svc_accuracy, logistic_accuracy, random_accuracy, gbc_accuracy, ada_accuracy]})\n",
    "models = models.sort_values(by='Score', ascending=False)\n",
    "display(models)"
   ]
  },
  {
   "cell_type": "code",
   "execution_count": null,
   "metadata": {
    "collapsed": true
   },
   "outputs": [],
   "source": [
    "# the actual score of GBC is 73% on kaggle. I dont know what i am doing wrong here. My untuned normal models have higher accuracy on kaggle."
   ]
  },
  {
   "cell_type": "code",
   "execution_count": null,
   "metadata": {
    "collapsed": true
   },
   "outputs": [],
   "source": [
    "model = SVC()\n",
    "model.fit(features, target)\n",
    "\n",
    "survival = model.predict(test_df)\n",
    "\n",
    "submit_df = pd.DataFrame({\"PassengerId\" : passenger_ids, \"Survived\" : survival})\n",
    "submit_df = submit_df.set_index(\"PassengerId\")\n",
    "submit_df.to_csv(\"predictions.csv\")"
   ]
  },
  {
   "cell_type": "code",
   "execution_count": null,
   "metadata": {
    "collapsed": true
   },
   "outputs": [],
   "source": []
  }
 ],
 "metadata": {
  "kernelspec": {
   "display_name": "Python 3",
   "language": "python",
   "name": "python3"
  },
  "language_info": {
   "codemirror_mode": {
    "name": "ipython",
    "version": 3
   },
   "file_extension": ".py",
   "mimetype": "text/x-python",
   "name": "python",
   "nbconvert_exporter": "python",
   "pygments_lexer": "ipython3",
   "version": "3.6.3"
  }
 },
 "nbformat": 4,
 "nbformat_minor": 2
}
